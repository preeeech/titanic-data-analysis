{
 "cells": [
  {
   "cell_type": "code",
   "execution_count": 1,
   "id": "ff7dfc19",
   "metadata": {
    "execution": {
     "iopub.execute_input": "2022-06-09T22:17:39.754832Z",
     "iopub.status.busy": "2022-06-09T22:17:39.754145Z",
     "iopub.status.idle": "2022-06-09T22:17:40.868355Z",
     "shell.execute_reply": "2022-06-09T22:17:40.867314Z"
    },
    "papermill": {
     "duration": 1.136137,
     "end_time": "2022-06-09T22:17:40.871368",
     "exception": false,
     "start_time": "2022-06-09T22:17:39.735231",
     "status": "completed"
    },
    "tags": []
   },
   "outputs": [],
   "source": [
    "import numpy as np \n",
    "import pandas as pd\n",
    "import matplotlib.pyplot as plt\n",
    "import seaborn as sns\n",
    "import warnings\n",
    "warnings.filterwarnings('ignore')\n",
    "\n"
   ]
  },
  {
   "cell_type": "markdown",
   "id": "4bed40ee",
   "metadata": {
    "papermill": {
     "duration": 0.01537,
     "end_time": "2022-06-09T22:17:40.902655",
     "exception": false,
     "start_time": "2022-06-09T22:17:40.887285",
     "status": "completed"
    },
    "tags": []
   },
   "source": [
    "# 1. Load data"
   ]
  },
  {
   "cell_type": "code",
   "execution_count": 2,
   "id": "f518ee98",
   "metadata": {
    "execution": {
     "iopub.execute_input": "2022-06-09T22:17:40.935928Z",
     "iopub.status.busy": "2022-06-09T22:17:40.935543Z",
     "iopub.status.idle": "2022-06-09T22:17:40.984591Z",
     "shell.execute_reply": "2022-06-09T22:17:40.983805Z"
    },
    "papermill": {
     "duration": 0.068796,
     "end_time": "2022-06-09T22:17:40.987121",
     "exception": false,
     "start_time": "2022-06-09T22:17:40.918325",
     "status": "completed"
    },
    "tags": []
   },
   "outputs": [
    {
     "data": {
      "text/html": [
       "<div>\n",
       "<style scoped>\n",
       "    .dataframe tbody tr th:only-of-type {\n",
       "        vertical-align: middle;\n",
       "    }\n",
       "\n",
       "    .dataframe tbody tr th {\n",
       "        vertical-align: top;\n",
       "    }\n",
       "\n",
       "    .dataframe thead th {\n",
       "        text-align: right;\n",
       "    }\n",
       "</style>\n",
       "<table border=\"1\" class=\"dataframe\">\n",
       "  <thead>\n",
       "    <tr style=\"text-align: right;\">\n",
       "      <th></th>\n",
       "      <th>PassengerId</th>\n",
       "      <th>Survived</th>\n",
       "      <th>Pclass</th>\n",
       "      <th>Name</th>\n",
       "      <th>Sex</th>\n",
       "      <th>Age</th>\n",
       "      <th>SibSp</th>\n",
       "      <th>Parch</th>\n",
       "      <th>Ticket</th>\n",
       "      <th>Fare</th>\n",
       "      <th>Cabin</th>\n",
       "      <th>Embarked</th>\n",
       "    </tr>\n",
       "  </thead>\n",
       "  <tbody>\n",
       "    <tr>\n",
       "      <th>0</th>\n",
       "      <td>1</td>\n",
       "      <td>0</td>\n",
       "      <td>3</td>\n",
       "      <td>Braund, Mr. Owen Harris</td>\n",
       "      <td>male</td>\n",
       "      <td>22.0</td>\n",
       "      <td>1</td>\n",
       "      <td>0</td>\n",
       "      <td>A/5 21171</td>\n",
       "      <td>7.2500</td>\n",
       "      <td>NaN</td>\n",
       "      <td>S</td>\n",
       "    </tr>\n",
       "    <tr>\n",
       "      <th>1</th>\n",
       "      <td>2</td>\n",
       "      <td>1</td>\n",
       "      <td>1</td>\n",
       "      <td>Cumings, Mrs. John Bradley (Florence Briggs Th...</td>\n",
       "      <td>female</td>\n",
       "      <td>38.0</td>\n",
       "      <td>1</td>\n",
       "      <td>0</td>\n",
       "      <td>PC 17599</td>\n",
       "      <td>71.2833</td>\n",
       "      <td>C85</td>\n",
       "      <td>C</td>\n",
       "    </tr>\n",
       "    <tr>\n",
       "      <th>2</th>\n",
       "      <td>3</td>\n",
       "      <td>1</td>\n",
       "      <td>3</td>\n",
       "      <td>Heikkinen, Miss. Laina</td>\n",
       "      <td>female</td>\n",
       "      <td>26.0</td>\n",
       "      <td>0</td>\n",
       "      <td>0</td>\n",
       "      <td>STON/O2. 3101282</td>\n",
       "      <td>7.9250</td>\n",
       "      <td>NaN</td>\n",
       "      <td>S</td>\n",
       "    </tr>\n",
       "    <tr>\n",
       "      <th>3</th>\n",
       "      <td>4</td>\n",
       "      <td>1</td>\n",
       "      <td>1</td>\n",
       "      <td>Futrelle, Mrs. Jacques Heath (Lily May Peel)</td>\n",
       "      <td>female</td>\n",
       "      <td>35.0</td>\n",
       "      <td>1</td>\n",
       "      <td>0</td>\n",
       "      <td>113803</td>\n",
       "      <td>53.1000</td>\n",
       "      <td>C123</td>\n",
       "      <td>S</td>\n",
       "    </tr>\n",
       "    <tr>\n",
       "      <th>4</th>\n",
       "      <td>5</td>\n",
       "      <td>0</td>\n",
       "      <td>3</td>\n",
       "      <td>Allen, Mr. William Henry</td>\n",
       "      <td>male</td>\n",
       "      <td>35.0</td>\n",
       "      <td>0</td>\n",
       "      <td>0</td>\n",
       "      <td>373450</td>\n",
       "      <td>8.0500</td>\n",
       "      <td>NaN</td>\n",
       "      <td>S</td>\n",
       "    </tr>\n",
       "  </tbody>\n",
       "</table>\n",
       "</div>"
      ],
      "text/plain": [
       "   PassengerId  Survived  Pclass  \\\n",
       "0            1         0       3   \n",
       "1            2         1       1   \n",
       "2            3         1       3   \n",
       "3            4         1       1   \n",
       "4            5         0       3   \n",
       "\n",
       "                                                Name     Sex   Age  SibSp  \\\n",
       "0                            Braund, Mr. Owen Harris    male  22.0      1   \n",
       "1  Cumings, Mrs. John Bradley (Florence Briggs Th...  female  38.0      1   \n",
       "2                             Heikkinen, Miss. Laina  female  26.0      0   \n",
       "3       Futrelle, Mrs. Jacques Heath (Lily May Peel)  female  35.0      1   \n",
       "4                           Allen, Mr. William Henry    male  35.0      0   \n",
       "\n",
       "   Parch            Ticket     Fare Cabin Embarked  \n",
       "0      0         A/5 21171   7.2500   NaN        S  \n",
       "1      0          PC 17599  71.2833   C85        C  \n",
       "2      0  STON/O2. 3101282   7.9250   NaN        S  \n",
       "3      0            113803  53.1000  C123        S  \n",
       "4      0            373450   8.0500   NaN        S  "
      ]
     },
     "execution_count": 2,
     "metadata": {},
     "output_type": "execute_result"
    }
   ],
   "source": [
    "train = pd.read_csv(r'../input/titanic/train.csv')\n",
    "test = pd.read_csv(r'../input/titanic/test.csv')\n",
    "train.head(5)"
   ]
  },
  {
   "cell_type": "code",
   "execution_count": 3,
   "id": "ec0b8753",
   "metadata": {
    "execution": {
     "iopub.execute_input": "2022-06-09T22:17:41.021569Z",
     "iopub.status.busy": "2022-06-09T22:17:41.020937Z",
     "iopub.status.idle": "2022-06-09T22:17:41.032098Z",
     "shell.execute_reply": "2022-06-09T22:17:41.031355Z"
    },
    "papermill": {
     "duration": 0.030996,
     "end_time": "2022-06-09T22:17:41.034337",
     "exception": false,
     "start_time": "2022-06-09T22:17:41.003341",
     "status": "completed"
    },
    "tags": []
   },
   "outputs": [],
   "source": [
    "# set index to PassengerID\n",
    "train = train.set_index(\"PassengerId\")\n",
    "test = test.set_index(\"PassengerId\")"
   ]
  },
  {
   "cell_type": "code",
   "execution_count": 4,
   "id": "86258171",
   "metadata": {
    "execution": {
     "iopub.execute_input": "2022-06-09T22:17:41.069898Z",
     "iopub.status.busy": "2022-06-09T22:17:41.069221Z",
     "iopub.status.idle": "2022-06-09T22:17:41.074139Z",
     "shell.execute_reply": "2022-06-09T22:17:41.073230Z"
    },
    "papermill": {
     "duration": 0.026029,
     "end_time": "2022-06-09T22:17:41.077124",
     "exception": false,
     "start_time": "2022-06-09T22:17:41.051095",
     "status": "completed"
    },
    "tags": []
   },
   "outputs": [
    {
     "name": "stdout",
     "output_type": "stream",
     "text": [
      "Train shape:  (891, 11)\n",
      "Test shape:  (418, 10)\n"
     ]
    }
   ],
   "source": [
    "print(\"Train shape: \", train.shape)\n",
    "print(\"Test shape: \", test.shape)"
   ]
  },
  {
   "cell_type": "code",
   "execution_count": 5,
   "id": "9c8c92f5",
   "metadata": {
    "execution": {
     "iopub.execute_input": "2022-06-09T22:17:41.113287Z",
     "iopub.status.busy": "2022-06-09T22:17:41.112333Z",
     "iopub.status.idle": "2022-06-09T22:17:41.122308Z",
     "shell.execute_reply": "2022-06-09T22:17:41.121416Z"
    },
    "papermill": {
     "duration": 0.029429,
     "end_time": "2022-06-09T22:17:41.124515",
     "exception": false,
     "start_time": "2022-06-09T22:17:41.095086",
     "status": "completed"
    },
    "tags": []
   },
   "outputs": [
    {
     "data": {
      "text/plain": [
       "Survived      0\n",
       "Pclass        0\n",
       "Name          0\n",
       "Sex           0\n",
       "Age         177\n",
       "SibSp         0\n",
       "Parch         0\n",
       "Ticket        0\n",
       "Fare          0\n",
       "Cabin       687\n",
       "Embarked      2\n",
       "dtype: int64"
      ]
     },
     "execution_count": 5,
     "metadata": {},
     "output_type": "execute_result"
    }
   ],
   "source": [
    "train.isnull().sum()"
   ]
  },
  {
   "cell_type": "code",
   "execution_count": 6,
   "id": "00eb136e",
   "metadata": {
    "execution": {
     "iopub.execute_input": "2022-06-09T22:17:41.159431Z",
     "iopub.status.busy": "2022-06-09T22:17:41.158641Z",
     "iopub.status.idle": "2022-06-09T22:17:41.168573Z",
     "shell.execute_reply": "2022-06-09T22:17:41.167581Z"
    },
    "papermill": {
     "duration": 0.029626,
     "end_time": "2022-06-09T22:17:41.170700",
     "exception": false,
     "start_time": "2022-06-09T22:17:41.141074",
     "status": "completed"
    },
    "tags": []
   },
   "outputs": [
    {
     "data": {
      "text/plain": [
       "Pclass        0\n",
       "Name          0\n",
       "Sex           0\n",
       "Age          86\n",
       "SibSp         0\n",
       "Parch         0\n",
       "Ticket        0\n",
       "Fare          1\n",
       "Cabin       327\n",
       "Embarked      0\n",
       "dtype: int64"
      ]
     },
     "execution_count": 6,
     "metadata": {},
     "output_type": "execute_result"
    }
   ],
   "source": [
    "test.isnull().sum()"
   ]
  },
  {
   "cell_type": "markdown",
   "id": "554ffc7a",
   "metadata": {
    "papermill": {
     "duration": 0.016215,
     "end_time": "2022-06-09T22:17:41.203000",
     "exception": false,
     "start_time": "2022-06-09T22:17:41.186785",
     "status": "completed"
    },
    "tags": []
   },
   "source": [
    "Notice that **Age, Cabin, Fare and Embarked** have some missing values.. We need to deal with them."
   ]
  },
  {
   "cell_type": "code",
   "execution_count": 7,
   "id": "cfd5989d",
   "metadata": {
    "execution": {
     "iopub.execute_input": "2022-06-09T22:17:41.238043Z",
     "iopub.status.busy": "2022-06-09T22:17:41.237623Z",
     "iopub.status.idle": "2022-06-09T22:17:41.279537Z",
     "shell.execute_reply": "2022-06-09T22:17:41.278580Z"
    },
    "papermill": {
     "duration": 0.061806,
     "end_time": "2022-06-09T22:17:41.281347",
     "exception": false,
     "start_time": "2022-06-09T22:17:41.219541",
     "status": "completed"
    },
    "tags": []
   },
   "outputs": [
    {
     "data": {
      "text/html": [
       "<div>\n",
       "<style scoped>\n",
       "    .dataframe tbody tr th:only-of-type {\n",
       "        vertical-align: middle;\n",
       "    }\n",
       "\n",
       "    .dataframe tbody tr th {\n",
       "        vertical-align: top;\n",
       "    }\n",
       "\n",
       "    .dataframe thead th {\n",
       "        text-align: right;\n",
       "    }\n",
       "</style>\n",
       "<table border=\"1\" class=\"dataframe\">\n",
       "  <thead>\n",
       "    <tr style=\"text-align: right;\">\n",
       "      <th></th>\n",
       "      <th>count</th>\n",
       "      <th>mean</th>\n",
       "      <th>std</th>\n",
       "      <th>min</th>\n",
       "      <th>25%</th>\n",
       "      <th>50%</th>\n",
       "      <th>75%</th>\n",
       "      <th>max</th>\n",
       "    </tr>\n",
       "  </thead>\n",
       "  <tbody>\n",
       "    <tr>\n",
       "      <th>Survived</th>\n",
       "      <td>891.0</td>\n",
       "      <td>0.38</td>\n",
       "      <td>0.49</td>\n",
       "      <td>0.00</td>\n",
       "      <td>0.00</td>\n",
       "      <td>0.00</td>\n",
       "      <td>1.0</td>\n",
       "      <td>1.00</td>\n",
       "    </tr>\n",
       "    <tr>\n",
       "      <th>Pclass</th>\n",
       "      <td>891.0</td>\n",
       "      <td>2.31</td>\n",
       "      <td>0.84</td>\n",
       "      <td>1.00</td>\n",
       "      <td>2.00</td>\n",
       "      <td>3.00</td>\n",
       "      <td>3.0</td>\n",
       "      <td>3.00</td>\n",
       "    </tr>\n",
       "    <tr>\n",
       "      <th>Age</th>\n",
       "      <td>714.0</td>\n",
       "      <td>29.70</td>\n",
       "      <td>14.53</td>\n",
       "      <td>0.42</td>\n",
       "      <td>20.12</td>\n",
       "      <td>28.00</td>\n",
       "      <td>38.0</td>\n",
       "      <td>80.00</td>\n",
       "    </tr>\n",
       "    <tr>\n",
       "      <th>SibSp</th>\n",
       "      <td>891.0</td>\n",
       "      <td>0.52</td>\n",
       "      <td>1.10</td>\n",
       "      <td>0.00</td>\n",
       "      <td>0.00</td>\n",
       "      <td>0.00</td>\n",
       "      <td>1.0</td>\n",
       "      <td>8.00</td>\n",
       "    </tr>\n",
       "    <tr>\n",
       "      <th>Parch</th>\n",
       "      <td>891.0</td>\n",
       "      <td>0.38</td>\n",
       "      <td>0.81</td>\n",
       "      <td>0.00</td>\n",
       "      <td>0.00</td>\n",
       "      <td>0.00</td>\n",
       "      <td>0.0</td>\n",
       "      <td>6.00</td>\n",
       "    </tr>\n",
       "    <tr>\n",
       "      <th>Fare</th>\n",
       "      <td>891.0</td>\n",
       "      <td>32.20</td>\n",
       "      <td>49.69</td>\n",
       "      <td>0.00</td>\n",
       "      <td>7.91</td>\n",
       "      <td>14.45</td>\n",
       "      <td>31.0</td>\n",
       "      <td>512.33</td>\n",
       "    </tr>\n",
       "  </tbody>\n",
       "</table>\n",
       "</div>"
      ],
      "text/plain": [
       "          count   mean    std   min    25%    50%   75%     max\n",
       "Survived  891.0   0.38   0.49  0.00   0.00   0.00   1.0    1.00\n",
       "Pclass    891.0   2.31   0.84  1.00   2.00   3.00   3.0    3.00\n",
       "Age       714.0  29.70  14.53  0.42  20.12  28.00  38.0   80.00\n",
       "SibSp     891.0   0.52   1.10  0.00   0.00   0.00   1.0    8.00\n",
       "Parch     891.0   0.38   0.81  0.00   0.00   0.00   0.0    6.00\n",
       "Fare      891.0  32.20  49.69  0.00   7.91  14.45  31.0  512.33"
      ]
     },
     "execution_count": 7,
     "metadata": {},
     "output_type": "execute_result"
    }
   ],
   "source": [
    "train.describe().round(2).T"
   ]
  },
  {
   "cell_type": "markdown",
   "id": "8fd391d1",
   "metadata": {
    "papermill": {
     "duration": 0.016257,
     "end_time": "2022-06-09T22:17:41.314353",
     "exception": false,
     "start_time": "2022-06-09T22:17:41.298096",
     "status": "completed"
    },
    "tags": []
   },
   "source": [
    "# 2. Missing values"
   ]
  },
  {
   "cell_type": "markdown",
   "id": "01b2305c",
   "metadata": {
    "papermill": {
     "duration": 0.016175,
     "end_time": "2022-06-09T22:17:41.347098",
     "exception": false,
     "start_time": "2022-06-09T22:17:41.330923",
     "status": "completed"
    },
    "tags": []
   },
   "source": [
    "**Concat train, test to whole dataset for convenient**"
   ]
  },
  {
   "cell_type": "code",
   "execution_count": 8,
   "id": "9d5b1212",
   "metadata": {
    "execution": {
     "iopub.execute_input": "2022-06-09T22:17:41.382248Z",
     "iopub.status.busy": "2022-06-09T22:17:41.381614Z",
     "iopub.status.idle": "2022-06-09T22:17:41.389772Z",
     "shell.execute_reply": "2022-06-09T22:17:41.388802Z"
    },
    "papermill": {
     "duration": 0.027984,
     "end_time": "2022-06-09T22:17:41.391710",
     "exception": false,
     "start_time": "2022-06-09T22:17:41.363726",
     "status": "completed"
    },
    "tags": []
   },
   "outputs": [
    {
     "name": "stdout",
     "output_type": "stream",
     "text": [
      "(1309, 11)\n"
     ]
    }
   ],
   "source": [
    "data=pd.concat([train, test])\n",
    "print(data.shape)"
   ]
  },
  {
   "cell_type": "markdown",
   "id": "e03be240",
   "metadata": {
    "papermill": {
     "duration": 0.017922,
     "end_time": "2022-06-09T22:17:41.427329",
     "exception": false,
     "start_time": "2022-06-09T22:17:41.409407",
     "status": "completed"
    },
    "tags": []
   },
   "source": [
    "> ## 2.1 Age"
   ]
  },
  {
   "cell_type": "markdown",
   "id": "ae2e179f",
   "metadata": {
    "papermill": {
     "duration": 0.017155,
     "end_time": "2022-06-09T22:17:41.462056",
     "exception": false,
     "start_time": "2022-06-09T22:17:41.444901",
     "status": "completed"
    },
    "tags": []
   },
   "source": [
    "**We need to replace all null ages based on title and average age by title.**"
   ]
  },
  {
   "cell_type": "code",
   "execution_count": 9,
   "id": "2fb6b253",
   "metadata": {
    "execution": {
     "iopub.execute_input": "2022-06-09T22:17:41.498858Z",
     "iopub.status.busy": "2022-06-09T22:17:41.498203Z",
     "iopub.status.idle": "2022-06-09T22:17:41.503552Z",
     "shell.execute_reply": "2022-06-09T22:17:41.502675Z"
    },
    "papermill": {
     "duration": 0.026631,
     "end_time": "2022-06-09T22:17:41.505477",
     "exception": false,
     "start_time": "2022-06-09T22:17:41.478846",
     "status": "completed"
    },
    "tags": []
   },
   "outputs": [
    {
     "name": "stdout",
     "output_type": "stream",
     "text": [
      "Number of null ages: 263\n"
     ]
    }
   ],
   "source": [
    "print(\"Number of null ages:\", data[\"Age\"].isnull().sum())"
   ]
  },
  {
   "cell_type": "code",
   "execution_count": 10,
   "id": "5735c2dd",
   "metadata": {
    "execution": {
     "iopub.execute_input": "2022-06-09T22:17:41.541992Z",
     "iopub.status.busy": "2022-06-09T22:17:41.541316Z",
     "iopub.status.idle": "2022-06-09T22:17:41.550097Z",
     "shell.execute_reply": "2022-06-09T22:17:41.549178Z"
    },
    "papermill": {
     "duration": 0.029536,
     "end_time": "2022-06-09T22:17:41.552439",
     "exception": false,
     "start_time": "2022-06-09T22:17:41.522903",
     "status": "completed"
    },
    "tags": []
   },
   "outputs": [],
   "source": [
    "def fill_age(data):\n",
    "    \n",
    "    # Frist, extract title from names\n",
    "    data['Initial']=0\n",
    "    for i in data:\n",
    "        data['Initial'] = data[\"Name\"].str.extract('([A-Za-z]+)\\.')\n",
    "    \n",
    "    # Second, replace them to Mr, Mrs, Miss or Other\n",
    "    data[\"Initial\"] = data['Initial'].replace(['Mlle','Mme','Ms','Dr','Major','Lady','Countess','Jonkheer','Col',\n",
    "                                               'Rev','Capt','Sir','Don', 'Dona'],\n",
    "                                              ['Miss','Miss','Miss','Mr','Mr','Mrs','Mrs','Other','Other','Other',\n",
    "                                               'Mr','Mr','Mr', 'Mrs']\n",
    "                                             )\n",
    "    \n",
    "    # Third,compute the average age of each title.\n",
    "    age_mean = data.groupby('Initial')['Age'].mean().map(np.ceil)\n",
    "    \n",
    "    # Finally, assign the null values with the ceil values of the mean age.\n",
    "    for idx, val in zip(age_mean.index, age_mean.values):\n",
    "        for i in data:\n",
    "            data.loc[(data[\"Age\"].isnull())&(data[\"Initial\"]==idx),\"Age\"] = val\n",
    "    \n",
    "    return data"
   ]
  },
  {
   "cell_type": "code",
   "execution_count": 11,
   "id": "d7a03edd",
   "metadata": {
    "execution": {
     "iopub.execute_input": "2022-06-09T22:17:41.589126Z",
     "iopub.status.busy": "2022-06-09T22:17:41.588384Z",
     "iopub.status.idle": "2022-06-09T22:17:41.724069Z",
     "shell.execute_reply": "2022-06-09T22:17:41.722886Z"
    },
    "papermill": {
     "duration": 0.156628,
     "end_time": "2022-06-09T22:17:41.726177",
     "exception": false,
     "start_time": "2022-06-09T22:17:41.569549",
     "status": "completed"
    },
    "tags": []
   },
   "outputs": [
    {
     "name": "stdout",
     "output_type": "stream",
     "text": [
      "Is there any null value for age? - False\n"
     ]
    }
   ],
   "source": [
    "data = fill_age(data=data)\n",
    "print(\"Is there any null value for age? -\", data.Age.isnull().any())"
   ]
  },
  {
   "cell_type": "markdown",
   "id": "8a1f1b7e",
   "metadata": {
    "papermill": {
     "duration": 0.016706,
     "end_time": "2022-06-09T22:17:41.760120",
     "exception": false,
     "start_time": "2022-06-09T22:17:41.743414",
     "status": "completed"
    },
    "tags": []
   },
   "source": [
    "> ## 2.2 Embarked "
   ]
  },
  {
   "cell_type": "code",
   "execution_count": 12,
   "id": "08724ea5",
   "metadata": {
    "execution": {
     "iopub.execute_input": "2022-06-09T22:17:41.796345Z",
     "iopub.status.busy": "2022-06-09T22:17:41.795397Z",
     "iopub.status.idle": "2022-06-09T22:17:41.802290Z",
     "shell.execute_reply": "2022-06-09T22:17:41.801188Z"
    },
    "papermill": {
     "duration": 0.027018,
     "end_time": "2022-06-09T22:17:41.804287",
     "exception": false,
     "start_time": "2022-06-09T22:17:41.777269",
     "status": "completed"
    },
    "tags": []
   },
   "outputs": [
    {
     "name": "stdout",
     "output_type": "stream",
     "text": [
      "Number of null embarked: 2\n"
     ]
    }
   ],
   "source": [
    "print(\"Number of null embarked:\", data[\"Embarked\"].isnull().sum())"
   ]
  },
  {
   "cell_type": "code",
   "execution_count": 13,
   "id": "bc96e4ac",
   "metadata": {
    "execution": {
     "iopub.execute_input": "2022-06-09T22:17:41.841266Z",
     "iopub.status.busy": "2022-06-09T22:17:41.840530Z",
     "iopub.status.idle": "2022-06-09T22:17:41.848852Z",
     "shell.execute_reply": "2022-06-09T22:17:41.847998Z"
    },
    "papermill": {
     "duration": 0.029428,
     "end_time": "2022-06-09T22:17:41.850862",
     "exception": false,
     "start_time": "2022-06-09T22:17:41.821434",
     "status": "completed"
    },
    "tags": []
   },
   "outputs": [
    {
     "data": {
      "text/plain": [
       "S    914\n",
       "C    270\n",
       "Q    123\n",
       "Name: Embarked, dtype: int64"
      ]
     },
     "execution_count": 13,
     "metadata": {},
     "output_type": "execute_result"
    }
   ],
   "source": [
    "data[\"Embarked\"].value_counts()"
   ]
  },
  {
   "cell_type": "markdown",
   "id": "2ba1a6ec",
   "metadata": {
    "papermill": {
     "duration": 0.017076,
     "end_time": "2022-06-09T22:17:41.885248",
     "exception": false,
     "start_time": "2022-06-09T22:17:41.868172",
     "status": "completed"
    },
    "tags": []
   },
   "source": [
    "Note: (C = Cherbourg; Q = Queenstown; S = Southampton)   \n",
    "Most of passengers came from Southampton, we can simply replace missing values of **\"Embarked\"** to **\"S\"**"
   ]
  },
  {
   "cell_type": "code",
   "execution_count": 14,
   "id": "7592da00",
   "metadata": {
    "execution": {
     "iopub.execute_input": "2022-06-09T22:17:41.922336Z",
     "iopub.status.busy": "2022-06-09T22:17:41.921684Z",
     "iopub.status.idle": "2022-06-09T22:17:41.929497Z",
     "shell.execute_reply": "2022-06-09T22:17:41.928548Z"
    },
    "papermill": {
     "duration": 0.030686,
     "end_time": "2022-06-09T22:17:41.933397",
     "exception": false,
     "start_time": "2022-06-09T22:17:41.902711",
     "status": "completed"
    },
    "tags": []
   },
   "outputs": [
    {
     "name": "stdout",
     "output_type": "stream",
     "text": [
      "Is there any null value for embarked? - False\n"
     ]
    }
   ],
   "source": [
    "data.loc[data[\"Embarked\"].isnull(), \"Embarked\"] = \"S\"\n",
    "print(\"Is there any null value for embarked? -\", data.Embarked.isnull().any())"
   ]
  },
  {
   "cell_type": "markdown",
   "id": "2d3a8ebb",
   "metadata": {
    "papermill": {
     "duration": 0.017245,
     "end_time": "2022-06-09T22:17:41.969637",
     "exception": false,
     "start_time": "2022-06-09T22:17:41.952392",
     "status": "completed"
    },
    "tags": []
   },
   "source": [
    "> ## 2.3 Fare"
   ]
  },
  {
   "cell_type": "code",
   "execution_count": 15,
   "id": "3137ee3f",
   "metadata": {
    "execution": {
     "iopub.execute_input": "2022-06-09T22:17:42.007245Z",
     "iopub.status.busy": "2022-06-09T22:17:42.006528Z",
     "iopub.status.idle": "2022-06-09T22:17:42.013053Z",
     "shell.execute_reply": "2022-06-09T22:17:42.011791Z"
    },
    "papermill": {
     "duration": 0.028478,
     "end_time": "2022-06-09T22:17:42.015780",
     "exception": false,
     "start_time": "2022-06-09T22:17:41.987302",
     "status": "completed"
    },
    "tags": []
   },
   "outputs": [
    {
     "name": "stdout",
     "output_type": "stream",
     "text": [
      "Number of null fare: 1\n"
     ]
    }
   ],
   "source": [
    "print(\"Number of null fare:\", data[\"Fare\"].isnull().sum())"
   ]
  },
  {
   "cell_type": "markdown",
   "id": "da6eef3f",
   "metadata": {
    "papermill": {
     "duration": 0.017298,
     "end_time": "2022-06-09T22:17:42.051261",
     "exception": false,
     "start_time": "2022-06-09T22:17:42.033963",
     "status": "completed"
    },
    "tags": []
   },
   "source": [
    "Simply replace null values of fare with average..."
   ]
  },
  {
   "cell_type": "code",
   "execution_count": 16,
   "id": "b5e764d8",
   "metadata": {
    "execution": {
     "iopub.execute_input": "2022-06-09T22:17:42.088419Z",
     "iopub.status.busy": "2022-06-09T22:17:42.087640Z",
     "iopub.status.idle": "2022-06-09T22:17:42.095851Z",
     "shell.execute_reply": "2022-06-09T22:17:42.094647Z"
    },
    "papermill": {
     "duration": 0.029063,
     "end_time": "2022-06-09T22:17:42.097887",
     "exception": false,
     "start_time": "2022-06-09T22:17:42.068824",
     "status": "completed"
    },
    "tags": []
   },
   "outputs": [
    {
     "name": "stdout",
     "output_type": "stream",
     "text": [
      "Is there any null value for embarked? - False\n"
     ]
    }
   ],
   "source": [
    "data.loc[data[\"Fare\"].isnull(), \"Fare\"] = data.Fare.mean().round(4)\n",
    "print(\"Is there any null value for embarked? -\", data.Embarked.isnull().any())"
   ]
  },
  {
   "cell_type": "markdown",
   "id": "b86ed031",
   "metadata": {
    "papermill": {
     "duration": 0.017504,
     "end_time": "2022-06-09T22:17:42.132977",
     "exception": false,
     "start_time": "2022-06-09T22:17:42.115473",
     "status": "completed"
    },
    "tags": []
   },
   "source": [
    "> ## 2.4. Cabin"
   ]
  },
  {
   "cell_type": "code",
   "execution_count": 17,
   "id": "2b0efd6c",
   "metadata": {
    "execution": {
     "iopub.execute_input": "2022-06-09T22:17:42.170454Z",
     "iopub.status.busy": "2022-06-09T22:17:42.169718Z",
     "iopub.status.idle": "2022-06-09T22:17:42.177828Z",
     "shell.execute_reply": "2022-06-09T22:17:42.177157Z"
    },
    "papermill": {
     "duration": 0.030606,
     "end_time": "2022-06-09T22:17:42.181399",
     "exception": false,
     "start_time": "2022-06-09T22:17:42.150793",
     "status": "completed"
    },
    "tags": []
   },
   "outputs": [
    {
     "name": "stdout",
     "output_type": "stream",
     "text": [
      "Number of null 'cabin': 1014\n",
      "C23 C25 C27        6\n",
      "G6                 5\n",
      "B57 B59 B63 B66    5\n",
      "C22 C26            4\n",
      "F33                4\n",
      "                  ..\n",
      "A14                1\n",
      "E63                1\n",
      "E12                1\n",
      "E38                1\n",
      "C105               1\n",
      "Name: Cabin, Length: 186, dtype: int64\n"
     ]
    }
   ],
   "source": [
    "print(\"Number of null 'cabin':\", data[\"Cabin\"].isnull().sum())\n",
    "# Look at various type of cabins\n",
    "print(data[\"Cabin\"].value_counts())"
   ]
  },
  {
   "cell_type": "markdown",
   "id": "0c884798",
   "metadata": {
    "papermill": {
     "duration": 0.017613,
     "end_time": "2022-06-09T22:17:42.218518",
     "exception": false,
     "start_time": "2022-06-09T22:17:42.200905",
     "status": "completed"
    },
    "tags": []
   },
   "source": [
    "I'll accept null values for cabins.."
   ]
  },
  {
   "cell_type": "markdown",
   "id": "67d2647d",
   "metadata": {
    "papermill": {
     "duration": 0.017566,
     "end_time": "2022-06-09T22:17:42.253970",
     "exception": false,
     "start_time": "2022-06-09T22:17:42.236404",
     "status": "completed"
    },
    "tags": []
   },
   "source": [
    "**Now, I'll split the whole data to train set and test set as before.**"
   ]
  },
  {
   "cell_type": "code",
   "execution_count": 18,
   "id": "88509e55",
   "metadata": {
    "execution": {
     "iopub.execute_input": "2022-06-09T22:17:42.291591Z",
     "iopub.status.busy": "2022-06-09T22:17:42.290588Z",
     "iopub.status.idle": "2022-06-09T22:17:42.303737Z",
     "shell.execute_reply": "2022-06-09T22:17:42.302868Z"
    },
    "papermill": {
     "duration": 0.034183,
     "end_time": "2022-06-09T22:17:42.305953",
     "exception": false,
     "start_time": "2022-06-09T22:17:42.271770",
     "status": "completed"
    },
    "tags": []
   },
   "outputs": [
    {
     "name": "stdout",
     "output_type": "stream",
     "text": [
      "Train shape:  (891, 12)\n",
      "Test shape:  (418, 12)\n"
     ]
    }
   ],
   "source": [
    "# Convert some columns to int\n",
    "data[[\"Pclass\",\"Age\",\"SibSp\",\"Parch\"]] = data[[\"Pclass\",\"Age\",\"SibSp\",\"Parch\"]].astype(\"int64\")\n",
    "\n",
    "# Split to train and test again..\n",
    "train = data[data.index.isin(train.index)]\n",
    "test  = data[data.index.isin(test.index)]\n",
    "\n",
    "# Check\n",
    "print(\"Train shape: \", train.shape)\n",
    "print(\"Test shape: \", test.shape)"
   ]
  },
  {
   "cell_type": "markdown",
   "id": "b32fbc96",
   "metadata": {
    "papermill": {
     "duration": 0.017623,
     "end_time": "2022-06-09T22:17:42.341730",
     "exception": false,
     "start_time": "2022-06-09T22:17:42.324107",
     "status": "completed"
    },
    "tags": []
   },
   "source": [
    "# 3. EDA"
   ]
  },
  {
   "cell_type": "code",
   "execution_count": 19,
   "id": "9ef46602",
   "metadata": {
    "execution": {
     "iopub.execute_input": "2022-06-09T22:17:42.379505Z",
     "iopub.status.busy": "2022-06-09T22:17:42.378815Z",
     "iopub.status.idle": "2022-06-09T22:17:42.383581Z",
     "shell.execute_reply": "2022-06-09T22:17:42.382905Z"
    },
    "papermill": {
     "duration": 0.025863,
     "end_time": "2022-06-09T22:17:42.385542",
     "exception": false,
     "start_time": "2022-06-09T22:17:42.359679",
     "status": "completed"
    },
    "tags": []
   },
   "outputs": [],
   "source": [
    "color = \"#5580cc\"\n",
    "palette=[\"#eb4255\", \"#2f9286\"]"
   ]
  },
  {
   "cell_type": "markdown",
   "id": "02990a45",
   "metadata": {
    "papermill": {
     "duration": 0.017861,
     "end_time": "2022-06-09T22:17:42.421727",
     "exception": false,
     "start_time": "2022-06-09T22:17:42.403866",
     "status": "completed"
    },
    "tags": []
   },
   "source": [
    "> ## 3.1. Survived percentage"
   ]
  },
  {
   "cell_type": "code",
   "execution_count": 20,
   "id": "538712b5",
   "metadata": {
    "execution": {
     "iopub.execute_input": "2022-06-09T22:17:42.460515Z",
     "iopub.status.busy": "2022-06-09T22:17:42.459896Z",
     "iopub.status.idle": "2022-06-09T22:17:42.466107Z",
     "shell.execute_reply": "2022-06-09T22:17:42.465222Z"
    },
    "papermill": {
     "duration": 0.027536,
     "end_time": "2022-06-09T22:17:42.468066",
     "exception": false,
     "start_time": "2022-06-09T22:17:42.440530",
     "status": "completed"
    },
    "tags": []
   },
   "outputs": [],
   "source": [
    "train['Survived'] = train['Survived'].astype(\"int64\")"
   ]
  },
  {
   "cell_type": "code",
   "execution_count": 21,
   "id": "b083d926",
   "metadata": {
    "execution": {
     "iopub.execute_input": "2022-06-09T22:17:42.506369Z",
     "iopub.status.busy": "2022-06-09T22:17:42.506011Z",
     "iopub.status.idle": "2022-06-09T22:17:42.705597Z",
     "shell.execute_reply": "2022-06-09T22:17:42.704104Z"
    },
    "papermill": {
     "duration": 0.222072,
     "end_time": "2022-06-09T22:17:42.708467",
     "exception": false,
     "start_time": "2022-06-09T22:17:42.486395",
     "status": "completed"
    },
    "tags": []
   },
   "outputs": [
    {
     "data": {
      "text/plain": [
       "Text(0, 0.5, '')"
      ]
     },
     "execution_count": 21,
     "metadata": {},
     "output_type": "execute_result"
    },
    {
     "data": {
      "image/png": "[encoded data removed]",
      "text/plain": [
       "<Figure size 432x432 with 1 Axes>"
      ]
     },
     "metadata": {},
     "output_type": "display_data"
    }
   ],
   "source": [
    "fig ,ax = plt.subplots(1,1,figsize=(6,6))\n",
    "\n",
    "train['Survived'].value_counts().plot.pie(explode=[0,0.1],\n",
    "                                          autopct='%1.1f%%',\n",
    "                                          ax=ax,\n",
    "                                          colors = palette,\n",
    "                                          center = (10,0),\n",
    "                                          shadow=True)\n",
    "\n",
    "ax.set_title('Percentage number of survived passengers')\n",
    "ax.set_ylabel('')"
   ]
  },
  {
   "cell_type": "markdown",
   "id": "5cdc34d6",
   "metadata": {
    "papermill": {
     "duration": 0.027811,
     "end_time": "2022-06-09T22:17:42.771511",
     "exception": false,
     "start_time": "2022-06-09T22:17:42.743700",
     "status": "completed"
    },
    "tags": []
   },
   "source": [
    "> ## 3.2 Sex and Age"
   ]
  },
  {
   "cell_type": "code",
   "execution_count": 22,
   "id": "df694e06",
   "metadata": {
    "execution": {
     "iopub.execute_input": "2022-06-09T22:17:42.810924Z",
     "iopub.status.busy": "2022-06-09T22:17:42.810511Z",
     "iopub.status.idle": "2022-06-09T22:17:43.117810Z",
     "shell.execute_reply": "2022-06-09T22:17:43.116763Z"
    },
    "papermill": {
     "duration": 0.329819,
     "end_time": "2022-06-09T22:17:43.120255",
     "exception": false,
     "start_time": "2022-06-09T22:17:42.790436",
     "status": "completed"
    },
    "tags": []
   },
   "outputs": [
    {
     "data": {
      "image/png": "[encoded data removed]",
      "text/plain": [
       "<Figure size 1152x504 with 2 Axes>"
      ]
     },
     "metadata": {
      "needs_background": "light"
     },
     "output_type": "display_data"
    }
   ],
   "source": [
    "fig ,ax=plt.subplots(1,2,figsize=(16,7))\n",
    "train['Sex'].value_counts().plot.bar(color=\"#5580cc\",ax=ax[0], xlabel=\"Sex\")\n",
    "ax[0].set_title('Number Of Passengers By Sex')\n",
    "ax[0].set_ylabel('count')\n",
    "sns.countplot('Sex', hue='Survived', data=train, ax=ax[1], palette=palette)\n",
    "ax[1].set_title('Sex: Survived vs Dead')\n",
    "plt.show()"
   ]
  },
  {
   "cell_type": "code",
   "execution_count": 23,
   "id": "3b0a16c2",
   "metadata": {
    "execution": {
     "iopub.execute_input": "2022-06-09T22:17:43.160640Z",
     "iopub.status.busy": "2022-06-09T22:17:43.160260Z",
     "iopub.status.idle": "2022-06-09T22:17:43.609248Z",
     "shell.execute_reply": "2022-06-09T22:17:43.608302Z"
    },
    "papermill": {
     "duration": 0.471575,
     "end_time": "2022-06-09T22:17:43.611234",
     "exception": false,
     "start_time": "2022-06-09T22:17:43.139659",
     "status": "completed"
    },
    "tags": []
   },
   "outputs": [
    {
     "data": {
      "text/plain": [
       "Text(0.5, 1.0, 'Distribution of age among Alive people')"
      ]
     },
     "execution_count": 23,
     "metadata": {},
     "output_type": "execute_result"
    },
    {
     "data": {
      "image/png": "[encoded data removed]",
      "text/plain": [
       "<Figure size 1152x504 with 2 Axes>"
      ]
     },
     "metadata": {
      "needs_background": "light"
     },
     "output_type": "display_data"
    }
   ],
   "source": [
    "fig,ax = plt.subplots(1,2,figsize=(16,7))\n",
    "\n",
    "# Dead\n",
    "sns.histplot(data=train[train['Survived']==0],\n",
    "             x='Age',bins=20,\n",
    "             kde=True,\n",
    "             kde_kws=dict(bw_adjust=1.5),\n",
    "             legend=True,\n",
    "             color='red',\n",
    "             ax=ax[0])\n",
    "ax[0].set_title(\"Distribution of age among Dead people\")\n",
    "\n",
    "# Alive\n",
    "sns.histplot(data=train[train['Survived']==1],\n",
    "             x='Age',bins=20,\n",
    "             kde=True,\n",
    "             kde_kws=dict(bw_adjust=1.5),\n",
    "             legend=True,\n",
    "             color='green',\n",
    "             ax=ax[1])\n",
    "ax[1].set_title(\"Distribution of age among Alive people\")"
   ]
  },
  {
   "cell_type": "code",
   "execution_count": 24,
   "id": "6c1bc9f6",
   "metadata": {
    "execution": {
     "iopub.execute_input": "2022-06-09T22:17:43.653276Z",
     "iopub.status.busy": "2022-06-09T22:17:43.652729Z",
     "iopub.status.idle": "2022-06-09T22:17:44.314446Z",
     "shell.execute_reply": "2022-06-09T22:17:44.313308Z"
    },
    "papermill": {
     "duration": 0.685437,
     "end_time": "2022-06-09T22:17:44.316843",
     "exception": false,
     "start_time": "2022-06-09T22:17:43.631406",
     "status": "completed"
    },
    "tags": []
   },
   "outputs": [
    {
     "data": {
      "text/plain": [
       "Text(0.5, 1.0, 'Female passengers')"
      ]
     },
     "execution_count": 24,
     "metadata": {},
     "output_type": "execute_result"
    },
    {
     "data": {
      "image/png": "[encoded data removed]",
      "text/plain": [
       "<Figure size 1152x504 with 2 Axes>"
      ]
     },
     "metadata": {
      "needs_background": "light"
     },
     "output_type": "display_data"
    }
   ],
   "source": [
    "fig ,ax=plt.subplots(1,2,figsize=(16,7))\n",
    "plt.suptitle(\"Distribution of ages among male and female passengers by Survived\")\n",
    "\n",
    "sns.histplot(x='Age', hue='Survived',\n",
    "             data=train[train[\"Sex\"]==\"male\"],\n",
    "             multiple='stack',\n",
    "             kde=True,\n",
    "             kde_kws = dict(bw_adjust=1.5),\n",
    "             ax=ax[0], palette=palette\n",
    "            )\n",
    "\n",
    "ax[0].set_title(\"Male passengers\")\n",
    "\n",
    "sns.histplot(x='Age', hue='Survived',\n",
    "             data=train[train[\"Sex\"]==\"female\"],\n",
    "             multiple='stack',\n",
    "             kde=True,\n",
    "             kde_kws = dict(bw_adjust=1.5),\n",
    "             ax=ax[1], palette=palette\n",
    "            )\n",
    "\n",
    "ax[1].set_title(\"Female passengers\")"
   ]
  },
  {
   "cell_type": "markdown",
   "id": "19262ec3",
   "metadata": {
    "papermill": {
     "duration": 0.020946,
     "end_time": "2022-06-09T22:17:44.359553",
     "exception": false,
     "start_time": "2022-06-09T22:17:44.338607",
     "status": "completed"
    },
    "tags": []
   },
   "source": [
    "> ## 3.3 Title"
   ]
  },
  {
   "cell_type": "code",
   "execution_count": 25,
   "id": "64c4f81f",
   "metadata": {
    "execution": {
     "iopub.execute_input": "2022-06-09T22:17:44.404578Z",
     "iopub.status.busy": "2022-06-09T22:17:44.404054Z",
     "iopub.status.idle": "2022-06-09T22:17:44.803754Z",
     "shell.execute_reply": "2022-06-09T22:17:44.802998Z"
    },
    "papermill": {
     "duration": 0.424796,
     "end_time": "2022-06-09T22:17:44.805822",
     "exception": false,
     "start_time": "2022-06-09T22:17:44.381026",
     "status": "completed"
    },
    "tags": []
   },
   "outputs": [
    {
     "data": {
      "image/png": "[encoded data removed]",
      "text/plain": [
       "<Figure size 360x360 with 1 Axes>"
      ]
     },
     "metadata": {
      "needs_background": "light"
     },
     "output_type": "display_data"
    }
   ],
   "source": [
    "sns.factorplot('Initial','Survived', data=train);"
   ]
  },
  {
   "cell_type": "markdown",
   "id": "b7352c9b",
   "metadata": {
    "papermill": {
     "duration": 0.021426,
     "end_time": "2022-06-09T22:17:44.849072",
     "exception": false,
     "start_time": "2022-06-09T22:17:44.827646",
     "status": "completed"
    },
    "tags": []
   },
   "source": [
    "> ## 3.4 Passenger class "
   ]
  },
  {
   "cell_type": "code",
   "execution_count": 26,
   "id": "4f88e973",
   "metadata": {
    "execution": {
     "iopub.execute_input": "2022-06-09T22:17:44.895323Z",
     "iopub.status.busy": "2022-06-09T22:17:44.894800Z",
     "iopub.status.idle": "2022-06-09T22:17:45.204180Z",
     "shell.execute_reply": "2022-06-09T22:17:45.203092Z"
    },
    "papermill": {
     "duration": 0.334801,
     "end_time": "2022-06-09T22:17:45.206175",
     "exception": false,
     "start_time": "2022-06-09T22:17:44.871374",
     "status": "completed"
    },
    "tags": []
   },
   "outputs": [
    {
     "data": {
      "image/png": "[encoded data removed]",
      "text/plain": [
       "<Figure size 1152x504 with 2 Axes>"
      ]
     },
     "metadata": {
      "needs_background": "light"
     },
     "output_type": "display_data"
    }
   ],
   "source": [
    "fig ,ax=plt.subplots(1,2,figsize=(16,7))\n",
    "train['Pclass'].value_counts().plot.bar(color=\"#5580cc\",ax=ax[0], xlabel=\"Pclass\")\n",
    "ax[0].set_title('Number Of Passengers By Pclass')\n",
    "ax[0].set_ylabel('Count')\n",
    "sns.countplot('Pclass',hue='Survived',data=train,ax=ax[1], palette=palette)\n",
    "ax[1].set_title('Pclass: Survived vs Dead')\n",
    "plt.show()"
   ]
  },
  {
   "cell_type": "code",
   "execution_count": 27,
   "id": "40b91fda",
   "metadata": {
    "execution": {
     "iopub.execute_input": "2022-06-09T22:17:45.257335Z",
     "iopub.status.busy": "2022-06-09T22:17:45.256596Z",
     "iopub.status.idle": "2022-06-09T22:17:45.872278Z",
     "shell.execute_reply": "2022-06-09T22:17:45.871311Z"
    },
    "papermill": {
     "duration": 0.643641,
     "end_time": "2022-06-09T22:17:45.875174",
     "exception": false,
     "start_time": "2022-06-09T22:17:45.231533",
     "status": "completed"
    },
    "tags": []
   },
   "outputs": [
    {
     "data": {
      "text/plain": [
       "<seaborn.axisgrid.FacetGrid at 0x7fe1fc6a2110>"
      ]
     },
     "execution_count": 27,
     "metadata": {},
     "output_type": "execute_result"
    },
    {
     "data": {
      "image/png": "[encoded data removed]",
      "text/plain": [
       "<Figure size 430.5x360 with 1 Axes>"
      ]
     },
     "metadata": {
      "needs_background": "light"
     },
     "output_type": "display_data"
    }
   ],
   "source": [
    "sns.factorplot(data=train, x='Pclass', y='Survived',hue='Sex')"
   ]
  },
  {
   "cell_type": "code",
   "execution_count": 28,
   "id": "a3a64b87",
   "metadata": {
    "execution": {
     "iopub.execute_input": "2022-06-09T22:17:45.929606Z",
     "iopub.status.busy": "2022-06-09T22:17:45.928960Z",
     "iopub.status.idle": "2022-06-09T22:17:46.219989Z",
     "shell.execute_reply": "2022-06-09T22:17:46.219025Z"
    },
    "papermill": {
     "duration": 0.317999,
     "end_time": "2022-06-09T22:17:46.222599",
     "exception": false,
     "start_time": "2022-06-09T22:17:45.904600",
     "status": "completed"
    },
    "tags": []
   },
   "outputs": [
    {
     "data": {
      "image/png": "[encoded data removed]",
      "text/plain": [
       "<Figure size 864x504 with 1 Axes>"
      ]
     },
     "metadata": {
      "needs_background": "light"
     },
     "output_type": "display_data"
    }
   ],
   "source": [
    "fig,ax=plt.subplots(1,1,figsize=(12,7))\n",
    "\n",
    "sns.violinplot(x=\"Pclass\", y=\"Age\",\n",
    "               hue=\"Survived\",\n",
    "               data=train,\n",
    "               split=True,\n",
    "               ax=ax, palette=palette\n",
    "              )\n",
    "\n",
    "ax.set_title('Pclass and Age vs Survived')\n",
    "ax.set_yticks(range(0,110,10));"
   ]
  },
  {
   "cell_type": "markdown",
   "id": "4ed014d5",
   "metadata": {
    "papermill": {
     "duration": 0.022862,
     "end_time": "2022-06-09T22:17:46.271627",
     "exception": false,
     "start_time": "2022-06-09T22:17:46.248765",
     "status": "completed"
    },
    "tags": []
   },
   "source": [
    "> ## 3.5 Embarked "
   ]
  },
  {
   "cell_type": "code",
   "execution_count": 29,
   "id": "56220ac3",
   "metadata": {
    "execution": {
     "iopub.execute_input": "2022-06-09T22:17:46.319556Z",
     "iopub.status.busy": "2022-06-09T22:17:46.318781Z",
     "iopub.status.idle": "2022-06-09T22:17:46.525394Z",
     "shell.execute_reply": "2022-06-09T22:17:46.524459Z"
    },
    "papermill": {
     "duration": 0.233448,
     "end_time": "2022-06-09T22:17:46.528185",
     "exception": false,
     "start_time": "2022-06-09T22:17:46.294737",
     "status": "completed"
    },
    "tags": []
   },
   "outputs": [
    {
     "data": {
      "text/plain": [
       "<AxesSubplot:xlabel='Embarked', ylabel='count'>"
      ]
     },
     "execution_count": 29,
     "metadata": {},
     "output_type": "execute_result"
    },
    {
     "data": {
      "image/png": "[encoded data removed]",
      "text/plain": [
       "<Figure size 432x288 with 1 Axes>"
      ]
     },
     "metadata": {
      "needs_background": "light"
     },
     "output_type": "display_data"
    }
   ],
   "source": [
    "sns.countplot(data=train, x='Embarked',hue='Survived', palette = palette)"
   ]
  },
  {
   "cell_type": "code",
   "execution_count": 30,
   "id": "1cc448ee",
   "metadata": {
    "execution": {
     "iopub.execute_input": "2022-06-09T22:17:46.578858Z",
     "iopub.status.busy": "2022-06-09T22:17:46.577702Z",
     "iopub.status.idle": "2022-06-09T22:17:46.924547Z",
     "shell.execute_reply": "2022-06-09T22:17:46.923512Z"
    },
    "papermill": {
     "duration": 0.373912,
     "end_time": "2022-06-09T22:17:46.926888",
     "exception": false,
     "start_time": "2022-06-09T22:17:46.552976",
     "status": "completed"
    },
    "tags": []
   },
   "outputs": [
    {
     "data": {
      "image/png": "[encoded data removed]",
      "text/plain": [
       "<Figure size 360x288 with 1 Axes>"
      ]
     },
     "metadata": {
      "needs_background": "light"
     },
     "output_type": "display_data"
    }
   ],
   "source": [
    "sns.factorplot('Embarked','Survived',data=train);\n",
    "fig = plt.gcf()\n",
    "fig.set_size_inches(5,4);"
   ]
  },
  {
   "cell_type": "code",
   "execution_count": 31,
   "id": "2d8926a2",
   "metadata": {
    "execution": {
     "iopub.execute_input": "2022-06-09T22:17:46.976761Z",
     "iopub.status.busy": "2022-06-09T22:17:46.976354Z",
     "iopub.status.idle": "2022-06-09T22:17:47.716046Z",
     "shell.execute_reply": "2022-06-09T22:17:47.715075Z"
    },
    "papermill": {
     "duration": 0.767793,
     "end_time": "2022-06-09T22:17:47.718796",
     "exception": false,
     "start_time": "2022-06-09T22:17:46.951003",
     "status": "completed"
    },
    "tags": []
   },
   "outputs": [
    {
     "data": {
      "image/png": "[encoded data removed]",
      "text/plain": [
       "<Figure size 1440x1080 with 4 Axes>"
      ]
     },
     "metadata": {
      "needs_background": "light"
     },
     "output_type": "display_data"
    }
   ],
   "source": [
    "fig, ax=plt.subplots(2,2,figsize=(20,15))\n",
    "sns.countplot('Embarked',data=train,ax=ax[0,0])\n",
    "ax[0,0].set_title('No. Of Passengers Boarded')\n",
    "sns.countplot('Embarked',hue='Sex',data=train,ax=ax[0,1])\n",
    "ax[0,1].set_title('Male-Female Split for Embarked')\n",
    "sns.countplot('Embarked',hue='Survived',data=train,ax=ax[1,0])\n",
    "ax[1,0].set_title('Embarked vs Survived')\n",
    "sns.countplot('Embarked',hue='Pclass',data=train,ax=ax[1,1])\n",
    "ax[1,1].set_title('Embarked vs Pclass')\n",
    "plt.subplots_adjust(wspace=0.2,hspace=0.5)\n",
    "plt.show()"
   ]
  },
  {
   "cell_type": "markdown",
   "id": "f9ee2bd1",
   "metadata": {
    "papermill": {
     "duration": 0.024566,
     "end_time": "2022-06-09T22:17:47.768423",
     "exception": false,
     "start_time": "2022-06-09T22:17:47.743857",
     "status": "completed"
    },
    "tags": []
   },
   "source": [
    "> ## 3.6 SibSp & Parch"
   ]
  },
  {
   "cell_type": "markdown",
   "id": "8a58bd8d",
   "metadata": {
    "papermill": {
     "duration": 0.025502,
     "end_time": "2022-06-09T22:17:47.818925",
     "exception": false,
     "start_time": "2022-06-09T22:17:47.793423",
     "status": "completed"
    },
    "tags": []
   },
   "source": [
    "Note:   \n",
    "**sibsp** -> Number of Siblings/Spouses Aboard\n",
    "\n",
    "**parch** -> Number of Parents/Children Aboard"
   ]
  },
  {
   "cell_type": "code",
   "execution_count": 32,
   "id": "0b642c0a",
   "metadata": {
    "execution": {
     "iopub.execute_input": "2022-06-09T22:17:47.871712Z",
     "iopub.status.busy": "2022-06-09T22:17:47.871331Z",
     "iopub.status.idle": "2022-06-09T22:17:48.485808Z",
     "shell.execute_reply": "2022-06-09T22:17:48.485089Z"
    },
    "papermill": {
     "duration": 0.643814,
     "end_time": "2022-06-09T22:17:48.487924",
     "exception": false,
     "start_time": "2022-06-09T22:17:47.844110",
     "status": "completed"
    },
    "tags": []
   },
   "outputs": [
    {
     "data": {
      "text/plain": [
       "Text(0.5, 0.98, 'Survived and Sibling/Spouses aboard')"
      ]
     },
     "execution_count": 32,
     "metadata": {},
     "output_type": "execute_result"
    },
    {
     "data": {
      "image/png": "[encoded data removed]",
      "text/plain": [
       "<Figure size 1152x504 with 2 Axes>"
      ]
     },
     "metadata": {
      "needs_background": "light"
     },
     "output_type": "display_data"
    }
   ],
   "source": [
    "fig, ax=plt.subplots(1,2,figsize=(16,7))\n",
    "\n",
    "sns.countplot(x='SibSp', hue='Survived', data=train, palette=palette, ax=ax[0])\n",
    "sns.pointplot('SibSp','Survived',data=train, ax=ax[1]);\n",
    "\n",
    "plt.suptitle(\"Survived and Sibling/Spouses aboard\")"
   ]
  },
  {
   "cell_type": "code",
   "execution_count": 33,
   "id": "c6037549",
   "metadata": {
    "execution": {
     "iopub.execute_input": "2022-06-09T22:17:48.541018Z",
     "iopub.status.busy": "2022-06-09T22:17:48.540415Z",
     "iopub.status.idle": "2022-06-09T22:17:49.100538Z",
     "shell.execute_reply": "2022-06-09T22:17:49.099810Z"
    },
    "papermill": {
     "duration": 0.589513,
     "end_time": "2022-06-09T22:17:49.102895",
     "exception": false,
     "start_time": "2022-06-09T22:17:48.513382",
     "status": "completed"
    },
    "tags": []
   },
   "outputs": [
    {
     "data": {
      "text/plain": [
       "Text(0.5, 0.98, 'Survived and Parent/Child aboard')"
      ]
     },
     "execution_count": 33,
     "metadata": {},
     "output_type": "execute_result"
    },
    {
     "data": {
      "image/png": "[encoded data removed]",
      "text/plain": [
       "<Figure size 1152x504 with 2 Axes>"
      ]
     },
     "metadata": {
      "needs_background": "light"
     },
     "output_type": "display_data"
    }
   ],
   "source": [
    "fig, ax=plt.subplots(1,2,figsize=(16,7))\n",
    "\n",
    "sns.countplot(x='Parch', hue='Survived', data=train, palette=palette, ax=ax[0])\n",
    "sns.pointplot('Parch','Survived',data=train, ax=ax[1]);\n",
    "\n",
    "plt.suptitle(\"Survived and Parent/Child aboard\")"
   ]
  },
  {
   "cell_type": "code",
   "execution_count": 34,
   "id": "8d5b246f",
   "metadata": {
    "execution": {
     "iopub.execute_input": "2022-06-09T22:17:49.157421Z",
     "iopub.status.busy": "2022-06-09T22:17:49.156692Z",
     "iopub.status.idle": "2022-06-09T22:17:49.847260Z",
     "shell.execute_reply": "2022-06-09T22:17:49.846198Z"
    },
    "papermill": {
     "duration": 0.720433,
     "end_time": "2022-06-09T22:17:49.849594",
     "exception": false,
     "start_time": "2022-06-09T22:17:49.129161",
     "status": "completed"
    },
    "tags": []
   },
   "outputs": [
    {
     "data": {
      "text/plain": [
       "Text(0.5, 0.98, 'Survived and family size')"
      ]
     },
     "execution_count": 34,
     "metadata": {},
     "output_type": "execute_result"
    },
    {
     "data": {
      "image/png": "[encoded data removed]",
      "text/plain": [
       "<Figure size 1152x504 with 2 Axes>"
      ]
     },
     "metadata": {
      "needs_background": "light"
     },
     "output_type": "display_data"
    }
   ],
   "source": [
    "train[\"Family_size\"] = train[\"SibSp\"] + train[\"Parch\"]\n",
    "\n",
    "fig, ax=plt.subplots(1,2,figsize=(16,7))\n",
    "\n",
    "sns.countplot(x='Family_size', hue='Survived', data=train, palette=palette, ax=ax[0])\n",
    "sns.pointplot('Family_size','Survived',data=train, ax=ax[1]);\n",
    "\n",
    "plt.suptitle(\"Survived and family size\")"
   ]
  },
  {
   "cell_type": "markdown",
   "id": "eabe85d3",
   "metadata": {
    "papermill": {
     "duration": 0.026609,
     "end_time": "2022-06-09T22:17:49.906141",
     "exception": false,
     "start_time": "2022-06-09T22:17:49.879532",
     "status": "completed"
    },
    "tags": []
   },
   "source": [
    "> ## 3.7 Fare"
   ]
  },
  {
   "cell_type": "code",
   "execution_count": 35,
   "id": "bfd35bc2",
   "metadata": {
    "execution": {
     "iopub.execute_input": "2022-06-09T22:17:49.961690Z",
     "iopub.status.busy": "2022-06-09T22:17:49.960988Z",
     "iopub.status.idle": "2022-06-09T22:17:49.968494Z",
     "shell.execute_reply": "2022-06-09T22:17:49.967147Z"
    },
    "papermill": {
     "duration": 0.037633,
     "end_time": "2022-06-09T22:17:49.970625",
     "exception": false,
     "start_time": "2022-06-09T22:17:49.932992",
     "status": "completed"
    },
    "tags": []
   },
   "outputs": [
    {
     "name": "stdout",
     "output_type": "stream",
     "text": [
      "Highest Fare was: 512.3292\n",
      "Lowest Fare was: 0.0\n",
      "Average Fare was: 32.204207968574636\n"
     ]
    }
   ],
   "source": [
    "print('Highest Fare was:',train['Fare'].max())\n",
    "print('Lowest Fare was:',train['Fare'].min())\n",
    "print('Average Fare was:',train['Fare'].mean())"
   ]
  },
  {
   "cell_type": "code",
   "execution_count": 36,
   "id": "a860b21d",
   "metadata": {
    "execution": {
     "iopub.execute_input": "2022-06-09T22:17:50.027913Z",
     "iopub.status.busy": "2022-06-09T22:17:50.027411Z",
     "iopub.status.idle": "2022-06-09T22:17:50.651823Z",
     "shell.execute_reply": "2022-06-09T22:17:50.650886Z"
    },
    "papermill": {
     "duration": 0.655762,
     "end_time": "2022-06-09T22:17:50.654392",
     "exception": false,
     "start_time": "2022-06-09T22:17:49.998630",
     "status": "completed"
    },
    "tags": []
   },
   "outputs": [
    {
     "data": {
      "image/png": "[encoded data removed]",
      "text/plain": [
       "<Figure size 1440x504 with 3 Axes>"
      ]
     },
     "metadata": {
      "needs_background": "light"
     },
     "output_type": "display_data"
    }
   ],
   "source": [
    "f,ax=plt.subplots(1,3,figsize=(20,7))\n",
    "sns.distplot(data[data['Pclass']==1].Fare,ax=ax[0])\n",
    "ax[0].set_title('Fares in Pclass 1')\n",
    "sns.distplot(data[data['Pclass']==2].Fare,ax=ax[1])\n",
    "ax[1].set_title('Fares in Pclass 2')\n",
    "sns.distplot(data[data['Pclass']==3].Fare,ax=ax[2])\n",
    "ax[2].set_title('Fares in Pclass 3')\n",
    "plt.show()"
   ]
  },
  {
   "cell_type": "code",
   "execution_count": 37,
   "id": "e759b216",
   "metadata": {
    "execution": {
     "iopub.execute_input": "2022-06-09T22:17:50.713947Z",
     "iopub.status.busy": "2022-06-09T22:17:50.713539Z",
     "iopub.status.idle": "2022-06-09T22:17:50.897101Z",
     "shell.execute_reply": "2022-06-09T22:17:50.895605Z"
    },
    "papermill": {
     "duration": 0.216153,
     "end_time": "2022-06-09T22:17:50.899721",
     "exception": false,
     "start_time": "2022-06-09T22:17:50.683568",
     "status": "completed"
    },
    "tags": []
   },
   "outputs": [
    {
     "data": {
      "text/plain": [
       "Text(0.5, 1.0, 'Box-plot of fare by Survived')"
      ]
     },
     "execution_count": 37,
     "metadata": {},
     "output_type": "execute_result"
    },
    {
     "data": {
      "image/png": "[encoded data removed]",
      "text/plain": [
       "<Figure size 432x288 with 1 Axes>"
      ]
     },
     "metadata": {
      "needs_background": "light"
     },
     "output_type": "display_data"
    }
   ],
   "source": [
    "sns.boxplot(y=\"Survived\", x=\"Fare\",\n",
    "            data=train,\n",
    "            orient = 'h',\n",
    "            palette=palette)\n",
    "\n",
    "plt.title(\"Box-plot of fare by Survived\")"
   ]
  },
  {
   "cell_type": "markdown",
   "id": "6fe2df3c",
   "metadata": {
    "papermill": {
     "duration": 0.034595,
     "end_time": "2022-06-09T22:17:50.971882",
     "exception": false,
     "start_time": "2022-06-09T22:17:50.937287",
     "status": "completed"
    },
    "tags": []
   },
   "source": [
    "# 4. Build model"
   ]
  },
  {
   "cell_type": "markdown",
   "id": "334cfd56",
   "metadata": {
    "papermill": {
     "duration": 0.027861,
     "end_time": "2022-06-09T22:17:51.031201",
     "exception": false,
     "start_time": "2022-06-09T22:17:51.003340",
     "status": "completed"
    },
    "tags": []
   },
   "source": [
    "> ## 4.1 Encoding"
   ]
  },
  {
   "cell_type": "code",
   "execution_count": 38,
   "id": "e428cd80",
   "metadata": {
    "execution": {
     "iopub.execute_input": "2022-06-09T22:17:51.091064Z",
     "iopub.status.busy": "2022-06-09T22:17:51.090626Z",
     "iopub.status.idle": "2022-06-09T22:17:51.104531Z",
     "shell.execute_reply": "2022-06-09T22:17:51.103790Z"
    },
    "papermill": {
     "duration": 0.046718,
     "end_time": "2022-06-09T22:17:51.106650",
     "exception": false,
     "start_time": "2022-06-09T22:17:51.059932",
     "status": "completed"
    },
    "tags": []
   },
   "outputs": [],
   "source": [
    "data['Sex'].replace(['male','female'],[0,1],inplace=True)\n",
    "data['Embarked'].replace(['S','C','Q'],[0,1,2],inplace=True)\n",
    "data['Initial'].replace(['Mr', 'Mrs', 'Miss', 'Master', 'Other'],[0,1,2,3,4],inplace=True)"
   ]
  },
  {
   "cell_type": "code",
   "execution_count": 39,
   "id": "8c807250",
   "metadata": {
    "execution": {
     "iopub.execute_input": "2022-06-09T22:17:51.165995Z",
     "iopub.status.busy": "2022-06-09T22:17:51.165276Z",
     "iopub.status.idle": "2022-06-09T22:17:51.170866Z",
     "shell.execute_reply": "2022-06-09T22:17:51.170082Z"
    },
    "papermill": {
     "duration": 0.037322,
     "end_time": "2022-06-09T22:17:51.172679",
     "exception": false,
     "start_time": "2022-06-09T22:17:51.135357",
     "status": "completed"
    },
    "tags": []
   },
   "outputs": [],
   "source": [
    "data[\"Family_size\"] = data[\"SibSp\"] + data[\"Parch\"]"
   ]
  },
  {
   "cell_type": "code",
   "execution_count": 40,
   "id": "ce76896c",
   "metadata": {
    "execution": {
     "iopub.execute_input": "2022-06-09T22:17:51.232355Z",
     "iopub.status.busy": "2022-06-09T22:17:51.231816Z",
     "iopub.status.idle": "2022-06-09T22:17:51.246620Z",
     "shell.execute_reply": "2022-06-09T22:17:51.245681Z"
    },
    "papermill": {
     "duration": 0.047417,
     "end_time": "2022-06-09T22:17:51.248831",
     "exception": false,
     "start_time": "2022-06-09T22:17:51.201414",
     "status": "completed"
    },
    "tags": []
   },
   "outputs": [
    {
     "data": {
      "text/html": [
       "<div>\n",
       "<style scoped>\n",
       "    .dataframe tbody tr th:only-of-type {\n",
       "        vertical-align: middle;\n",
       "    }\n",
       "\n",
       "    .dataframe tbody tr th {\n",
       "        vertical-align: top;\n",
       "    }\n",
       "\n",
       "    .dataframe thead th {\n",
       "        text-align: right;\n",
       "    }\n",
       "</style>\n",
       "<table border=\"1\" class=\"dataframe\">\n",
       "  <thead>\n",
       "    <tr style=\"text-align: right;\">\n",
       "      <th></th>\n",
       "      <th>Survived</th>\n",
       "      <th>Pclass</th>\n",
       "      <th>Sex</th>\n",
       "      <th>Age</th>\n",
       "      <th>Fare</th>\n",
       "      <th>Embarked</th>\n",
       "      <th>Initial</th>\n",
       "      <th>Family_size</th>\n",
       "    </tr>\n",
       "    <tr>\n",
       "      <th>PassengerId</th>\n",
       "      <th></th>\n",
       "      <th></th>\n",
       "      <th></th>\n",
       "      <th></th>\n",
       "      <th></th>\n",
       "      <th></th>\n",
       "      <th></th>\n",
       "      <th></th>\n",
       "    </tr>\n",
       "  </thead>\n",
       "  <tbody>\n",
       "    <tr>\n",
       "      <th>1</th>\n",
       "      <td>0.0</td>\n",
       "      <td>3</td>\n",
       "      <td>0</td>\n",
       "      <td>22</td>\n",
       "      <td>7.2500</td>\n",
       "      <td>0</td>\n",
       "      <td>0</td>\n",
       "      <td>1</td>\n",
       "    </tr>\n",
       "    <tr>\n",
       "      <th>2</th>\n",
       "      <td>1.0</td>\n",
       "      <td>1</td>\n",
       "      <td>1</td>\n",
       "      <td>38</td>\n",
       "      <td>71.2833</td>\n",
       "      <td>1</td>\n",
       "      <td>1</td>\n",
       "      <td>1</td>\n",
       "    </tr>\n",
       "    <tr>\n",
       "      <th>3</th>\n",
       "      <td>1.0</td>\n",
       "      <td>3</td>\n",
       "      <td>1</td>\n",
       "      <td>26</td>\n",
       "      <td>7.9250</td>\n",
       "      <td>0</td>\n",
       "      <td>2</td>\n",
       "      <td>0</td>\n",
       "    </tr>\n",
       "    <tr>\n",
       "      <th>4</th>\n",
       "      <td>1.0</td>\n",
       "      <td>1</td>\n",
       "      <td>1</td>\n",
       "      <td>35</td>\n",
       "      <td>53.1000</td>\n",
       "      <td>0</td>\n",
       "      <td>1</td>\n",
       "      <td>1</td>\n",
       "    </tr>\n",
       "    <tr>\n",
       "      <th>5</th>\n",
       "      <td>0.0</td>\n",
       "      <td>3</td>\n",
       "      <td>0</td>\n",
       "      <td>35</td>\n",
       "      <td>8.0500</td>\n",
       "      <td>0</td>\n",
       "      <td>0</td>\n",
       "      <td>0</td>\n",
       "    </tr>\n",
       "  </tbody>\n",
       "</table>\n",
       "</div>"
      ],
      "text/plain": [
       "             Survived  Pclass  Sex  Age     Fare  Embarked  Initial  \\\n",
       "PassengerId                                                           \n",
       "1                 0.0       3    0   22   7.2500         0        0   \n",
       "2                 1.0       1    1   38  71.2833         1        1   \n",
       "3                 1.0       3    1   26   7.9250         0        2   \n",
       "4                 1.0       1    1   35  53.1000         0        1   \n",
       "5                 0.0       3    0   35   8.0500         0        0   \n",
       "\n",
       "             Family_size  \n",
       "PassengerId               \n",
       "1                      1  \n",
       "2                      1  \n",
       "3                      0  \n",
       "4                      1  \n",
       "5                      0  "
      ]
     },
     "execution_count": 40,
     "metadata": {},
     "output_type": "execute_result"
    }
   ],
   "source": [
    "df = data.copy()\n",
    "df.drop(['Name','Ticket','Cabin', 'SibSp', 'Parch'],axis=1,inplace=True)\n",
    "df.head()"
   ]
  },
  {
   "cell_type": "markdown",
   "id": "6b7bce27",
   "metadata": {
    "papermill": {
     "duration": 0.028066,
     "end_time": "2022-06-09T22:17:51.305857",
     "exception": false,
     "start_time": "2022-06-09T22:17:51.277791",
     "status": "completed"
    },
    "tags": []
   },
   "source": []
  },
  {
   "cell_type": "code",
   "execution_count": 41,
   "id": "bb2a06b9",
   "metadata": {
    "execution": {
     "iopub.execute_input": "2022-06-09T22:17:51.365182Z",
     "iopub.status.busy": "2022-06-09T22:17:51.364410Z",
     "iopub.status.idle": "2022-06-09T22:17:51.500629Z",
     "shell.execute_reply": "2022-06-09T22:17:51.499797Z"
    },
    "papermill": {
     "duration": 0.168623,
     "end_time": "2022-06-09T22:17:51.503182",
     "exception": false,
     "start_time": "2022-06-09T22:17:51.334559",
     "status": "completed"
    },
    "tags": []
   },
   "outputs": [],
   "source": [
    "from sklearn.preprocessing import RobustScaler, MinMaxScaler\n",
    "\n",
    "minmax_scaler = MinMaxScaler()\n",
    "df[\"Age\"] = minmax_scaler.fit_transform(df[\"Age\"].values.reshape(-1, 1))\n",
    "\n",
    "rb_scaler = RobustScaler()\n",
    "df[\"Fare\"] = rb_scaler.fit_transform(df[\"Fare\"].values.reshape(-1, 1))"
   ]
  },
  {
   "cell_type": "code",
   "execution_count": 42,
   "id": "e524f040",
   "metadata": {
    "execution": {
     "iopub.execute_input": "2022-06-09T22:17:51.563054Z",
     "iopub.status.busy": "2022-06-09T22:17:51.562629Z",
     "iopub.status.idle": "2022-06-09T22:17:51.577867Z",
     "shell.execute_reply": "2022-06-09T22:17:51.576828Z"
    },
    "papermill": {
     "duration": 0.047401,
     "end_time": "2022-06-09T22:17:51.579931",
     "exception": false,
     "start_time": "2022-06-09T22:17:51.532530",
     "status": "completed"
    },
    "tags": []
   },
   "outputs": [
    {
     "data": {
      "text/html": [
       "<div>\n",
       "<style scoped>\n",
       "    .dataframe tbody tr th:only-of-type {\n",
       "        vertical-align: middle;\n",
       "    }\n",
       "\n",
       "    .dataframe tbody tr th {\n",
       "        vertical-align: top;\n",
       "    }\n",
       "\n",
       "    .dataframe thead th {\n",
       "        text-align: right;\n",
       "    }\n",
       "</style>\n",
       "<table border=\"1\" class=\"dataframe\">\n",
       "  <thead>\n",
       "    <tr style=\"text-align: right;\">\n",
       "      <th></th>\n",
       "      <th>Survived</th>\n",
       "      <th>Pclass</th>\n",
       "      <th>Sex</th>\n",
       "      <th>Age</th>\n",
       "      <th>Fare</th>\n",
       "      <th>Embarked</th>\n",
       "      <th>Initial</th>\n",
       "      <th>Family_size</th>\n",
       "    </tr>\n",
       "    <tr>\n",
       "      <th>PassengerId</th>\n",
       "      <th></th>\n",
       "      <th></th>\n",
       "      <th></th>\n",
       "      <th></th>\n",
       "      <th></th>\n",
       "      <th></th>\n",
       "      <th></th>\n",
       "      <th></th>\n",
       "    </tr>\n",
       "  </thead>\n",
       "  <tbody>\n",
       "    <tr>\n",
       "      <th>1</th>\n",
       "      <td>0.0</td>\n",
       "      <td>3</td>\n",
       "      <td>0</td>\n",
       "      <td>0.2750</td>\n",
       "      <td>-0.308146</td>\n",
       "      <td>0</td>\n",
       "      <td>0</td>\n",
       "      <td>1</td>\n",
       "    </tr>\n",
       "    <tr>\n",
       "      <th>2</th>\n",
       "      <td>1.0</td>\n",
       "      <td>1</td>\n",
       "      <td>1</td>\n",
       "      <td>0.4750</td>\n",
       "      <td>2.430755</td>\n",
       "      <td>1</td>\n",
       "      <td>1</td>\n",
       "      <td>1</td>\n",
       "    </tr>\n",
       "    <tr>\n",
       "      <th>3</th>\n",
       "      <td>1.0</td>\n",
       "      <td>3</td>\n",
       "      <td>1</td>\n",
       "      <td>0.3250</td>\n",
       "      <td>-0.279274</td>\n",
       "      <td>0</td>\n",
       "      <td>2</td>\n",
       "      <td>0</td>\n",
       "    </tr>\n",
       "    <tr>\n",
       "      <th>4</th>\n",
       "      <td>1.0</td>\n",
       "      <td>1</td>\n",
       "      <td>1</td>\n",
       "      <td>0.4375</td>\n",
       "      <td>1.652999</td>\n",
       "      <td>0</td>\n",
       "      <td>1</td>\n",
       "      <td>1</td>\n",
       "    </tr>\n",
       "    <tr>\n",
       "      <th>5</th>\n",
       "      <td>0.0</td>\n",
       "      <td>3</td>\n",
       "      <td>0</td>\n",
       "      <td>0.4375</td>\n",
       "      <td>-0.273927</td>\n",
       "      <td>0</td>\n",
       "      <td>0</td>\n",
       "      <td>0</td>\n",
       "    </tr>\n",
       "  </tbody>\n",
       "</table>\n",
       "</div>"
      ],
      "text/plain": [
       "             Survived  Pclass  Sex     Age      Fare  Embarked  Initial  \\\n",
       "PassengerId                                                               \n",
       "1                 0.0       3    0  0.2750 -0.308146         0        0   \n",
       "2                 1.0       1    1  0.4750  2.430755         1        1   \n",
       "3                 1.0       3    1  0.3250 -0.279274         0        2   \n",
       "4                 1.0       1    1  0.4375  1.652999         0        1   \n",
       "5                 0.0       3    0  0.4375 -0.273927         0        0   \n",
       "\n",
       "             Family_size  \n",
       "PassengerId               \n",
       "1                      1  \n",
       "2                      1  \n",
       "3                      0  \n",
       "4                      1  \n",
       "5                      0  "
      ]
     },
     "execution_count": 42,
     "metadata": {},
     "output_type": "execute_result"
    }
   ],
   "source": [
    "df.head()"
   ]
  },
  {
   "cell_type": "code",
   "execution_count": 43,
   "id": "896b2f94",
   "metadata": {
    "execution": {
     "iopub.execute_input": "2022-06-09T22:17:51.642016Z",
     "iopub.status.busy": "2022-06-09T22:17:51.641174Z",
     "iopub.status.idle": "2022-06-09T22:17:51.650876Z",
     "shell.execute_reply": "2022-06-09T22:17:51.649813Z"
    },
    "papermill": {
     "duration": 0.043081,
     "end_time": "2022-06-09T22:17:51.653374",
     "exception": false,
     "start_time": "2022-06-09T22:17:51.610293",
     "status": "completed"
    },
    "tags": []
   },
   "outputs": [
    {
     "name": "stdout",
     "output_type": "stream",
     "text": [
      "Train shape:  (891, 8)\n",
      "Test shape:  (418, 7)\n"
     ]
    }
   ],
   "source": [
    "df_train = df[df.index.isin(train.index)]\n",
    "df_test  = df[df.index.isin(test.index)]\n",
    "df_test.drop(\"Survived\", axis=1, inplace=True)\n",
    "\n",
    "print(\"Train shape: \", df_train.shape)\n",
    "print(\"Test shape: \", df_test.shape)"
   ]
  },
  {
   "cell_type": "code",
   "execution_count": 44,
   "id": "23d94be3",
   "metadata": {
    "execution": {
     "iopub.execute_input": "2022-06-09T22:17:51.714460Z",
     "iopub.status.busy": "2022-06-09T22:17:51.713414Z",
     "iopub.status.idle": "2022-06-09T22:17:51.719484Z",
     "shell.execute_reply": "2022-06-09T22:17:51.718785Z"
    },
    "papermill": {
     "duration": 0.038673,
     "end_time": "2022-06-09T22:17:51.721383",
     "exception": false,
     "start_time": "2022-06-09T22:17:51.682710",
     "status": "completed"
    },
    "tags": []
   },
   "outputs": [],
   "source": [
    "X = df_train.drop('Survived',axis=1)\n",
    "y = df_train[\"Survived\"] "
   ]
  },
  {
   "cell_type": "code",
   "execution_count": 45,
   "id": "840fa9c4",
   "metadata": {
    "execution": {
     "iopub.execute_input": "2022-06-09T22:17:51.784365Z",
     "iopub.status.busy": "2022-06-09T22:17:51.783837Z",
     "iopub.status.idle": "2022-06-09T22:17:51.968278Z",
     "shell.execute_reply": "2022-06-09T22:17:51.967494Z"
    },
    "papermill": {
     "duration": 0.220124,
     "end_time": "2022-06-09T22:17:51.970821",
     "exception": false,
     "start_time": "2022-06-09T22:17:51.750697",
     "status": "completed"
    },
    "tags": []
   },
   "outputs": [],
   "source": [
    "from sklearn.linear_model import LogisticRegression #logistic regression\n",
    "from sklearn.neighbors import KNeighborsClassifier #KNN\n",
    "from sklearn.naive_bayes import GaussianNB #Naive bayes\n",
    "from sklearn.model_selection import cross_val_score, train_test_split \n",
    "\n",
    "# Importing metrics \n",
    "from sklearn.metrics import confusion_matrix, ConfusionMatrixDisplay #for confusion matrix\n",
    "from sklearn.metrics import accuracy_score, classification_report, roc_curve\n",
    "\n",
    "# Tuning hyperparameters\n",
    "from sklearn.model_selection import GridSearchCV"
   ]
  },
  {
   "cell_type": "code",
   "execution_count": 46,
   "id": "41887f5b",
   "metadata": {
    "execution": {
     "iopub.execute_input": "2022-06-09T22:17:52.032663Z",
     "iopub.status.busy": "2022-06-09T22:17:52.032110Z",
     "iopub.status.idle": "2022-06-09T22:17:52.040436Z",
     "shell.execute_reply": "2022-06-09T22:17:52.039456Z"
    },
    "papermill": {
     "duration": 0.041343,
     "end_time": "2022-06-09T22:17:52.042546",
     "exception": false,
     "start_time": "2022-06-09T22:17:52.001203",
     "status": "completed"
    },
    "tags": []
   },
   "outputs": [
    {
     "name": "stdout",
     "output_type": "stream",
     "text": [
      "The shape of X_train is       (668, 7)\n",
      "The shape of X_test is        (223, 7)\n",
      "The shape of y_train is       (668,)\n",
      "The shape of y_test is        (223,)\n"
     ]
    }
   ],
   "source": [
    "X_train,X_val, y_train,y_val = train_test_split(X, y, test_size=0.25, random_state=42)\n",
    "\n",
    "print(\"The shape of X_train is      \", X_train.shape)\n",
    "print(\"The shape of X_test is       \",X_val.shape)\n",
    "print(\"The shape of y_train is      \",y_train.shape)\n",
    "print(\"The shape of y_test is       \",y_val.shape)"
   ]
  },
  {
   "cell_type": "code",
   "execution_count": 47,
   "id": "0bb4be54",
   "metadata": {
    "execution": {
     "iopub.execute_input": "2022-06-09T22:17:52.105628Z",
     "iopub.status.busy": "2022-06-09T22:17:52.105100Z",
     "iopub.status.idle": "2022-06-09T22:17:52.128239Z",
     "shell.execute_reply": "2022-06-09T22:17:52.127350Z"
    },
    "papermill": {
     "duration": 0.058743,
     "end_time": "2022-06-09T22:17:52.131280",
     "exception": false,
     "start_time": "2022-06-09T22:17:52.072537",
     "status": "completed"
    },
    "tags": []
   },
   "outputs": [
    {
     "name": "stdout",
     "output_type": "stream",
     "text": [
      "========Logistic Regression output=========\n",
      "\n",
      "              precision    recall  f1-score   support\n",
      "\n",
      "         0.0       0.82      0.87      0.84       134\n",
      "         1.0       0.78      0.72      0.75        89\n",
      "\n",
      "    accuracy                           0.81       223\n",
      "   macro avg       0.80      0.79      0.80       223\n",
      "weighted avg       0.81      0.81      0.81       223\n",
      "\n"
     ]
    }
   ],
   "source": [
    "logr_model = LogisticRegression(C=10)\n",
    "logr_model.fit(X, y)\n",
    "y_pred = logr_model.predict(X_val)\n",
    "print(\"========Logistic Regression output=========\\n\")\n",
    "print(classification_report(y_val, y_pred))"
   ]
  },
  {
   "cell_type": "code",
   "execution_count": 48,
   "id": "04834c9c",
   "metadata": {
    "execution": {
     "iopub.execute_input": "2022-06-09T22:17:52.195573Z",
     "iopub.status.busy": "2022-06-09T22:17:52.195051Z",
     "iopub.status.idle": "2022-06-09T22:17:52.210645Z",
     "shell.execute_reply": "2022-06-09T22:17:52.209668Z"
    },
    "papermill": {
     "duration": 0.051344,
     "end_time": "2022-06-09T22:17:52.213612",
     "exception": false,
     "start_time": "2022-06-09T22:17:52.162268",
     "status": "completed"
    },
    "tags": []
   },
   "outputs": [
    {
     "name": "stdout",
     "output_type": "stream",
     "text": [
      "              precision    recall  f1-score   support\n",
      "\n",
      "         0.0       0.83      0.82      0.83       134\n",
      "         1.0       0.74      0.75      0.74        89\n",
      "\n",
      "    accuracy                           0.79       223\n",
      "   macro avg       0.78      0.79      0.79       223\n",
      "weighted avg       0.79      0.79      0.79       223\n",
      "\n"
     ]
    }
   ],
   "source": [
    "gnb = GaussianNB()\n",
    "gnb.fit(X_train,y_train)\n",
    "y_pred = gnb.predict(X_val)\n",
    "print(classification_report(y_val, y_pred))"
   ]
  },
  {
   "cell_type": "code",
   "execution_count": 49,
   "id": "8b5393da",
   "metadata": {
    "execution": {
     "iopub.execute_input": "2022-06-09T22:17:52.276294Z",
     "iopub.status.busy": "2022-06-09T22:17:52.275760Z",
     "iopub.status.idle": "2022-06-09T22:17:52.298841Z",
     "shell.execute_reply": "2022-06-09T22:17:52.298109Z"
    },
    "papermill": {
     "duration": 0.057174,
     "end_time": "2022-06-09T22:17:52.301711",
     "exception": false,
     "start_time": "2022-06-09T22:17:52.244537",
     "status": "completed"
    },
    "tags": []
   },
   "outputs": [
    {
     "name": "stdout",
     "output_type": "stream",
     "text": [
      "              precision    recall  f1-score   support\n",
      "\n",
      "         0.0       0.83      0.84      0.84       134\n",
      "         1.0       0.76      0.74      0.75        89\n",
      "\n",
      "    accuracy                           0.80       223\n",
      "   macro avg       0.79      0.79      0.79       223\n",
      "weighted avg       0.80      0.80      0.80       223\n",
      "\n"
     ]
    }
   ],
   "source": [
    "knn = KNeighborsClassifier(10)\n",
    "knn.fit(X_train,y_train)\n",
    "y_pred = knn.predict(X_val)\n",
    "print(classification_report(y_val, y_pred))"
   ]
  },
  {
   "cell_type": "code",
   "execution_count": 50,
   "id": "140de242",
   "metadata": {
    "execution": {
     "iopub.execute_input": "2022-06-09T22:17:52.369031Z",
     "iopub.status.busy": "2022-06-09T22:17:52.368577Z",
     "iopub.status.idle": "2022-06-09T22:17:52.498212Z",
     "shell.execute_reply": "2022-06-09T22:17:52.496917Z"
    },
    "papermill": {
     "duration": 0.164251,
     "end_time": "2022-06-09T22:17:52.500634",
     "exception": false,
     "start_time": "2022-06-09T22:17:52.336383",
     "status": "completed"
    },
    "tags": []
   },
   "outputs": [
    {
     "name": "stdout",
     "output_type": "stream",
     "text": [
      "              precision    recall  f1-score   support\n",
      "\n",
      "         0.0       0.83      0.84      0.83       134\n",
      "         1.0       0.75      0.74      0.75        89\n",
      "\n",
      "    accuracy                           0.80       223\n",
      "   macro avg       0.79      0.79      0.79       223\n",
      "weighted avg       0.80      0.80      0.80       223\n",
      "\n"
     ]
    }
   ],
   "source": [
    "# Try an ensemble model - Voting Classifier\n",
    "from sklearn.ensemble import VotingClassifier\n",
    "eclf = VotingClassifier(estimators=[('logr', logr_model),\n",
    "                                    ('knn', knn), ('gnb', gnb)], voting='hard')\n",
    "\n",
    "eclf.fit(X_train, y_train)\n",
    "y_pred = eclf.predict(X_val)\n",
    "print(classification_report(y_val, y_pred))"
   ]
  },
  {
   "cell_type": "code",
   "execution_count": 51,
   "id": "a5946d13",
   "metadata": {
    "execution": {
     "iopub.execute_input": "2022-06-09T22:17:52.562852Z",
     "iopub.status.busy": "2022-06-09T22:17:52.562456Z",
     "iopub.status.idle": "2022-06-09T22:17:52.689655Z",
     "shell.execute_reply": "2022-06-09T22:17:52.688527Z"
    },
    "papermill": {
     "duration": 0.16164,
     "end_time": "2022-06-09T22:17:52.692597",
     "exception": false,
     "start_time": "2022-06-09T22:17:52.530957",
     "status": "completed"
    },
    "tags": []
   },
   "outputs": [
    {
     "name": "stdout",
     "output_type": "stream",
     "text": [
      "              precision    recall  f1-score   support\n",
      "\n",
      "         0.0       0.83      0.89      0.86       134\n",
      "         1.0       0.81      0.73      0.77        89\n",
      "\n",
      "    accuracy                           0.83       223\n",
      "   macro avg       0.82      0.81      0.81       223\n",
      "weighted avg       0.82      0.83      0.82       223\n",
      "\n"
     ]
    }
   ],
   "source": [
    "# Try another ensemble model - GradientBoosting Classifier\n",
    "\n",
    "from sklearn.ensemble import GradientBoostingClassifier\n",
    "gbc = GradientBoostingClassifier()\n",
    "gbc.fit(X_train, y_train)\n",
    "y_pred = gbc.predict(X_val)\n",
    "print(classification_report(y_val, y_pred))"
   ]
  },
  {
   "cell_type": "markdown",
   "id": "5a71f913",
   "metadata": {
    "papermill": {
     "duration": 0.029515,
     "end_time": "2022-06-09T22:17:52.753609",
     "exception": false,
     "start_time": "2022-06-09T22:17:52.724094",
     "status": "completed"
    },
    "tags": []
   },
   "source": [
    "Surprisingly, the accuracy score and F1-Score of **GBC** with default parameters was actually well compared to those models before.   \n",
    "Next, I'll try tuning some important parameters to increase **Accuracy Score**."
   ]
  },
  {
   "cell_type": "code",
   "execution_count": 52,
   "id": "a84d9dac",
   "metadata": {
    "execution": {
     "iopub.execute_input": "2022-06-09T22:17:52.815187Z",
     "iopub.status.busy": "2022-06-09T22:17:52.814813Z",
     "iopub.status.idle": "2022-06-09T22:21:27.771785Z",
     "shell.execute_reply": "2022-06-09T22:21:27.770836Z"
    },
    "papermill": {
     "duration": 215.021399,
     "end_time": "2022-06-09T22:21:27.805075",
     "exception": false,
     "start_time": "2022-06-09T22:17:52.783676",
     "status": "completed"
    },
    "tags": []
   },
   "outputs": [
    {
     "name": "stdout",
     "output_type": "stream",
     "text": [
      "Fitting 5 folds for each of 240 candidates, totalling 1200 fits\n"
     ]
    },
    {
     "data": {
      "text/plain": [
       "GridSearchCV(cv=5, estimator=GradientBoostingClassifier(),\n",
       "             param_grid={'learning_rate': [0.01, 0.05, 0.1, 0.2, 0.4, 1],\n",
       "                         'max_depth': [2, 4, 8, 10],\n",
       "                         'max_features': ['log2', 'sqrt'],\n",
       "                         'n_estimators': [20, 30, 50, 70, 100]},\n",
       "             scoring='accuracy', verbose=1)"
      ]
     },
     "execution_count": 52,
     "metadata": {},
     "output_type": "execute_result"
    }
   ],
   "source": [
    "from sklearn.model_selection import GridSearchCV\n",
    "\n",
    "parameters = {\n",
    "    \"learning_rate\": [0.01, 0.05, 0.1, 0.2, 0.4,1],\n",
    "    \"max_depth\":[2,4,8,10],\n",
    "    \"max_features\":[\"log2\",\"sqrt\"],\n",
    "    \"n_estimators\":[20,30,50,70,100]\n",
    "    }\n",
    "\n",
    "#passing the scoring function in the GridSearchCV\n",
    "clf = GridSearchCV(gbc,\n",
    "                   param_grid=parameters,\n",
    "                   scoring=\"accuracy\",\n",
    "                   cv=5,\n",
    "                   verbose=1\n",
    "                  )\n",
    "\n",
    "clf.fit(X_train, y_train)"
   ]
  },
  {
   "cell_type": "code",
   "execution_count": 53,
   "id": "d07ccc8b",
   "metadata": {
    "execution": {
     "iopub.execute_input": "2022-06-09T22:21:27.870634Z",
     "iopub.status.busy": "2022-06-09T22:21:27.869760Z",
     "iopub.status.idle": "2022-06-09T22:21:27.877993Z",
     "shell.execute_reply": "2022-06-09T22:21:27.876952Z"
    },
    "papermill": {
     "duration": 0.044472,
     "end_time": "2022-06-09T22:21:27.880066",
     "exception": false,
     "start_time": "2022-06-09T22:21:27.835594",
     "status": "completed"
    },
    "tags": []
   },
   "outputs": [
    {
     "data": {
      "text/plain": [
       "0.839838401975087"
      ]
     },
     "execution_count": 53,
     "metadata": {},
     "output_type": "execute_result"
    }
   ],
   "source": [
    "clf.best_score_"
   ]
  },
  {
   "cell_type": "code",
   "execution_count": 54,
   "id": "dda4e9d1",
   "metadata": {
    "execution": {
     "iopub.execute_input": "2022-06-09T22:21:27.943797Z",
     "iopub.status.busy": "2022-06-09T22:21:27.943133Z",
     "iopub.status.idle": "2022-06-09T22:21:27.951129Z",
     "shell.execute_reply": "2022-06-09T22:21:27.950338Z"
    },
    "papermill": {
     "duration": 0.041982,
     "end_time": "2022-06-09T22:21:27.953128",
     "exception": false,
     "start_time": "2022-06-09T22:21:27.911146",
     "status": "completed"
    },
    "tags": []
   },
   "outputs": [],
   "source": [
    "df_test[\"Survived\"] = clf.predict(df_test)"
   ]
  },
  {
   "cell_type": "code",
   "execution_count": 55,
   "id": "c53d67ed",
   "metadata": {
    "execution": {
     "iopub.execute_input": "2022-06-09T22:21:28.016776Z",
     "iopub.status.busy": "2022-06-09T22:21:28.016096Z",
     "iopub.status.idle": "2022-06-09T22:21:28.020351Z",
     "shell.execute_reply": "2022-06-09T22:21:28.019558Z"
    },
    "papermill": {
     "duration": 0.038505,
     "end_time": "2022-06-09T22:21:28.022171",
     "exception": false,
     "start_time": "2022-06-09T22:21:27.983666",
     "status": "completed"
    },
    "tags": []
   },
   "outputs": [],
   "source": [
    "output = df_test[\"Survived\"]"
   ]
  },
  {
   "cell_type": "code",
   "execution_count": 56,
   "id": "8feddbea",
   "metadata": {
    "execution": {
     "iopub.execute_input": "2022-06-09T22:21:28.084994Z",
     "iopub.status.busy": "2022-06-09T22:21:28.084571Z",
     "iopub.status.idle": "2022-06-09T22:21:28.093637Z",
     "shell.execute_reply": "2022-06-09T22:21:28.092662Z"
    },
    "papermill": {
     "duration": 0.043108,
     "end_time": "2022-06-09T22:21:28.095869",
     "exception": false,
     "start_time": "2022-06-09T22:21:28.052761",
     "status": "completed"
    },
    "tags": []
   },
   "outputs": [],
   "source": [
    "output.to_csv(\"./output.csv\")"
   ]
  }
 ],
 "metadata": {
  "kernelspec": {
   "display_name": "Python 3",
   "language": "python",
   "name": "python3"
  },
  "language_info": {
   "codemirror_mode": {
    "name": "ipython",
    "version": 3
   },
   "file_extension": ".py",
   "mimetype": "text/x-python",
   "name": "python",
   "nbconvert_exporter": "python",
   "pygments_lexer": "ipython3",
   "version": "3.7.12"
  },
  "papermill": {
   "default_parameters": {},
   "duration": 239.248563,
   "end_time": "2022-06-09T22:21:29.051381",
   "environment_variables": {},
   "exception": null,
   "input_path": "__notebook__.ipynb",
   "output_path": "__notebook__.ipynb",
   "parameters": {},
   "start_time": "2022-06-09T22:17:29.802818",
   "version": "2.3.4"
  }
 },
 "nbformat": 4,
 "nbformat_minor": 5
}
